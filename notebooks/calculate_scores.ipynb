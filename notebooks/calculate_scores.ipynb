{
 "cells": [
  {
   "cell_type": "code",
   "execution_count": 1,
   "id": "da035243",
   "metadata": {},
   "outputs": [
    {
     "name": "stdout",
     "output_type": "stream",
     "text": [
      "WARNING: genes are not in var_names and ignored: Index(['NANOG'], dtype='object')\n",
      "Cluster risk scores saved to outputs/cluster_risk_scores.csv\n",
      "Cluster risk scores saved to outputs/leiden_cluster_risk_scores.csv\n"
     ]
    },
    {
     "name": "stderr",
     "output_type": "stream",
     "text": [
      "/var/folders/mh/scns_xl50h53fkt0htmxk2cc0000gn/T/ipykernel_83450/1102257468.py:41: FutureWarning: The default of observed=False is deprecated and will be changed to True in a future version of pandas. Pass observed=False to retain current behavior or observed=True to adopt the future default and silence this warning.\n",
      "  cluster_scores = adata.obs.groupby('Tumor_Type')[['proliferation_score', 'stemness_score', 'immune_score', 'prognostic_score']].mean()\n",
      "/var/folders/mh/scns_xl50h53fkt0htmxk2cc0000gn/T/ipykernel_83450/1102257468.py:46: FutureWarning: The default of observed=False is deprecated and will be changed to True in a future version of pandas. Pass observed=False to retain current behavior or observed=True to adopt the future default and silence this warning.\n",
      "  cluster_scores = adata.obs.groupby('leiden')[['proliferation_score', 'stemness_score', 'immune_score', 'prognostic_score']].mean()\n"
     ]
    }
   ],
   "source": [
    "# Import libraries\n",
    "import scanpy as sc\n",
    "import pandas as pd\n",
    "\n",
    "# Load your data\n",
    "adata = sc.read_h5ad('/Users/amurti/Desktop/UCSF_Projects/Hepatoblastoma_manuscript/sc_scratch_analysis/hb_tumor.h5ad')\n",
    "\n",
    "# ---------------------------\n",
    "# 1. Proliferation Score\n",
    "# ---------------------------\n",
    "proliferation_genes = ['MKI67', 'PCNA', 'TOP2A', 'BIRC5', 'UBE2C']\n",
    "sc.tl.score_genes(adata, gene_list=proliferation_genes, score_name='proliferation_score')\n",
    "# Visualize\n",
    "# sc.pl.violin(adata, keys='proliferation_score', groupby='Tumor_Type', rotation=90)\n",
    "\n",
    "# ---------------------------\n",
    "# 2. Stemness/Differentiation Score\n",
    "# ---------------------------\n",
    "stemness_genes = ['SOX2', 'NANOG', 'POU5F1', 'KLF4', 'MYC']\n",
    "sc.tl.score_genes(adata, gene_list=stemness_genes, score_name='stemness_score')\n",
    "# sc.pl.violin(adata, keys='stemness_score', groupby='Tumor_Type', rotation=90)\n",
    "\n",
    "# ---------------------------\n",
    "# 3. Immune Infiltration Score\n",
    "# ---------------------------\n",
    "immune_genes = ['CD3D', 'CD3E', 'CD4', 'CD8A', 'FOXP3', 'CD68', 'CD163']\n",
    "sc.tl.score_genes(adata, gene_list=immune_genes, score_name='immune_score')\n",
    "# sc.pl.violin(adata, keys='immune_score', groupby='Tumor_Type', rotation=90)\n",
    "\n",
    "# ---------------------------\n",
    "# 4. Published Prognostic Signature Score\n",
    "# ---------------------------\n",
    "# Example signature - customize with literature-based markers\n",
    "prognostic_genes = ['AFP', 'GPC3', 'IGF2', 'DLK1', 'DLK2']\n",
    "sc.tl.score_genes(adata, gene_list=prognostic_genes, score_name='prognostic_score')\n",
    "# sc.pl.violin(adata, keys='prognostic_score', groupby='Tumor_Type', rotation=90)\n",
    "\n",
    "# ---------------------------\n",
    "# Export cluster mean scores for integration\n",
    "# ---------------------------\n",
    "cluster_scores = adata.obs.groupby('Tumor_Type')[['proliferation_score', 'stemness_score', 'immune_score', 'prognostic_score']].mean()\n",
    "cluster_scores.to_csv('../outputs/cluster_risk_scores.csv')\n",
    "\n",
    "print(\"Cluster risk scores saved to outputs/cluster_risk_scores.csv\")\n",
    "\n",
    "cluster_scores = adata.obs.groupby('leiden')[['proliferation_score', 'stemness_score', 'immune_score', 'prognostic_score']].mean()\n",
    "cluster_scores.to_csv('../outputs/leiden_cluster_risk_scores.csv')\n",
    "\n",
    "print(\"Cluster risk scores saved to outputs/leiden_cluster_risk_scores.csv\")"
   ]
  },
  {
   "cell_type": "code",
   "execution_count": 5,
   "id": "0a8b756e",
   "metadata": {},
   "outputs": [],
   "source": [
    "import pandas as pd\n",
    "\n",
    "risk_scores_df = pd.read_csv('../outputs/cluster_risk_scores.csv', index_col=0)\n",
    "\n",
    "# Min-max scale each score column\n",
    "for col in ['proliferation_score', 'stemness_score', 'immune_score', 'prognostic_score']:\n",
    "    min_val = risk_scores_df[col].min()\n",
    "    max_val = risk_scores_df[col].max()\n",
    "    risk_scores_df[col + '_scaled'] = (risk_scores_df[col] - min_val) / (max_val - min_val)\n",
    "\n",
    "# Save the scaled scores\n",
    "risk_scores_df.to_csv('../outputs/cluster_risk_scores_scaled.csv')"
   ]
  },
  {
   "cell_type": "code",
   "execution_count": 2,
   "id": "5e2a838c",
   "metadata": {},
   "outputs": [],
   "source": [
    "import pandas as pd\n",
    "\n",
    "risk_scores_df = pd.read_csv('../outputs/leiden_cluster_risk_scores.csv', index_col=0)\n",
    "\n",
    "# Min-max scale each score column\n",
    "for col in ['proliferation_score', 'stemness_score', 'immune_score', 'prognostic_score']:\n",
    "    min_val = risk_scores_df[col].min()\n",
    "    max_val = risk_scores_df[col].max()\n",
    "    risk_scores_df[col + '_scaled'] = (risk_scores_df[col] - min_val) / (max_val - min_val)\n",
    "\n",
    "# Save the scaled scores\n",
    "risk_scores_df.to_csv('../outputs/leiden_cluster_risk_scores_scaled.csv')"
   ]
  }
 ],
 "metadata": {
  "kernelspec": {
   "display_name": "sc_AI_HB",
   "language": "python",
   "name": "python3"
  },
  "language_info": {
   "codemirror_mode": {
    "name": "ipython",
    "version": 3
   },
   "file_extension": ".py",
   "mimetype": "text/x-python",
   "name": "python",
   "nbconvert_exporter": "python",
   "pygments_lexer": "ipython3",
   "version": "3.13.5"
  }
 },
 "nbformat": 4,
 "nbformat_minor": 5
}
